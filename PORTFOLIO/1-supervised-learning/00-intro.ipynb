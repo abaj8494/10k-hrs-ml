{
 "cells": [
  {
   "metadata": {},
   "cell_type": "markdown",
   "source": "# Orientation",
   "id": "b4d01a88e6e5e8ee"
  },
  {
   "metadata": {},
   "cell_type": "markdown",
   "source": [
    "where are you in the grand-scheme of machine learning?\n",
    "    - doing _supervised_ learning (and thus parametric modelling), on a _regression_ problem --- i.e. a problem with which you are expecting to be given inputs, and you will have to predict some kind of continuous valued output."
   ],
   "id": "d0e5f21c2166d325"
  },
  {
   "metadata": {},
   "cell_type": "markdown",
   "source": [
    "many models can be used to do regression:\n",
    "- linear model: $\\hat{\\beta} = \\arg \\min_{\\beta} \\frac{1}{n}\\|y-X \\beta\\|^2_2$\n",
    "- LASSO model: $\\hat{\\beta}_{\\text{LASSO}} = \\arg \\min_{\\beta} \\frac{1}{n}\\|y-X \\beta\\|^2_2 + \\lambda \\| \\beta \\|_1$\n",
    "- Ridge model: $\\hat{\\beta}_{\\text{Ridge}} = \\arg \\min_{\\beta} \\frac{1}{n}\\|y-X \\beta\\|^2_2 + \\alpha \\| \\beta \\|_2^2$ \n",
    "- logistic regression\n",
    "- svm\n",
    "- decision trees\n",
    "- perceptron       \n",
    "- neural networks"
   ],
   "id": "3d18c0fa404249f2"
  },
  {
   "metadata": {},
   "cell_type": "markdown",
   "source": [
    "however, you must note that these models can also be recycled for classification problems, and thus the line distinguishing models and methods in machine learning are very much blurred.\n",
    "\n",
    "below, I do a basic fitting of linear models to a linear regression problem to get the ball rolling."
   ],
   "id": "ea1c3d3471bf6881"
  },
  {
   "metadata": {
    "ExecuteTime": {
     "end_time": "2024-08-30T05:16:22.944960Z",
     "start_time": "2024-08-30T05:16:22.942203Z"
    }
   },
   "cell_type": "code",
   "source": [
    "from keras_core.src.losses import mean_squared_error\n",
    "from sklearn.linear_model import LinearRegression, Lasso, Ridge, LassoCV\n",
    "from sklearn.datasets import make_regression\n",
    "from sklearn.model_selection import train_test_split\n",
    "from sklearn.metrics import mean_squared_error, mean_absolute_error\n",
    "\n",
    "import numpy as np\n",
    "import matplotlib.pyplot as plt\n",
    "import pandas as pd\n",
    "from torch.nn.functional import mse_loss"
   ],
   "id": "6423f5d103c7e422",
   "outputs": [],
   "execution_count": 40
  },
  {
   "metadata": {
    "ExecuteTime": {
     "end_time": "2024-08-30T05:16:23.027675Z",
     "start_time": "2024-08-30T05:16:23.011727Z"
    }
   },
   "cell_type": "code",
   "source": [
    "rs = np.random.RandomState(123)\n",
    "n = 1000 # samples\n",
    "p = 10   # features\n",
    "noise = 0.4\n",
    "features = p // 2\n",
    "X, y = make_regression(n, p, noise=noise, n_informative=features, random_state=rs)\n",
    "X_train, X_test, y_train, y_test = train_test_split(X, y, random_state=rs)\n",
    "\n",
    "# fitting these models to the training data:\n",
    "m_linear_reg = LinearRegression().fit(X_train, y_train)\n",
    "m_lasso_reg = Lasso().fit(X_train, y_train)\n",
    "m_ridge_reg = Ridge().fit(X_train, y_train)\n",
    "\n",
    "# predictions on training:\n",
    "ypred_train_linear_reg = m_linear_reg.predict(X_train)\n",
    "ypred_train_lasso_reg = m_lasso_reg.predict(X_train)\n",
    "ypred_train_ridge_reg = m_ridge_reg.predict(X_train)\n",
    "\n",
    "# then test data:\n",
    "ypred_test_linear_reg = m_linear_reg.predict(X_test)\n",
    "ypred_test_lasso_reg = m_lasso_reg.predict(X_test)\n",
    "ypred_test_ridge_reg = m_ridge_reg.predict(X_test)\n"
   ],
   "id": "fdc2ae3800f8e81e",
   "outputs": [],
   "execution_count": 41
  },
  {
   "metadata": {
    "ExecuteTime": {
     "end_time": "2024-08-30T05:16:23.078660Z",
     "start_time": "2024-08-30T05:16:23.062468Z"
    }
   },
   "cell_type": "code",
   "source": [
    "loss_data = [\n",
    "    ['linear regression',\n",
    "     mean_squared_error(y_train, ypred_train_linear_reg),\n",
    "     mean_squared_error(y_test, ypred_test_linear_reg),\n",
    "     mean_absolute_error(y_train, ypred_train_linear_reg),\n",
    "     mean_absolute_error(y_test, ypred_test_linear_reg)\n",
    "     ],\n",
    "    ['lasso regression',\n",
    "     mean_squared_error(y_train, ypred_train_lasso_reg),\n",
    "     mean_squared_error(y_test, ypred_test_lasso_reg),\n",
    "     mean_absolute_error(y_train, ypred_train_lasso_reg),\n",
    "     mean_squared_error(y_test, ypred_test_lasso_reg)\n",
    "     ],\n",
    "    ['ridge regression',\n",
    "     mean_squared_error(y_train, ypred_train_ridge_reg),\n",
    "     mean_squared_error(y_test, ypred_test_ridge_reg),\n",
    "     mean_absolute_error(y_train, ypred_train_ridge_reg),\n",
    "     mean_absolute_error(y_test, ypred_test_ridge_reg)\n",
    "     ]\n",
    "] \n",
    "loss_df = pd.DataFrame(loss_data, columns=['name', 'train mse', 'test mse', 'train mae', 'test mae'])\n",
    "print(loss_df)\n"
   ],
   "id": "21c9919f38da1f75",
   "outputs": [
    {
     "name": "stdout",
     "output_type": "stream",
     "text": [
      "                name  train mse  test mse  train mae  test mae\n",
      "0  linear regression   0.151018  0.176519   0.312670  0.334087\n",
      "1   lasso regression   4.907329  4.128131   1.795599  4.128131\n",
      "2   ridge regression   0.189097  0.193945   0.353909  0.351923\n"
     ]
    }
   ],
   "execution_count": 42
  },
  {
   "metadata": {},
   "cell_type": "markdown",
   "source": "## Analysis",
   "id": "50a03e1fb03bf9d4"
  },
  {
   "metadata": {},
   "cell_type": "markdown",
   "source": "`lasso regression` performs poorly. this is because it depends on a parameter $\\lambda$",
   "id": "6e49ad49375db989"
  },
  {
   "metadata": {
    "ExecuteTime": {
     "end_time": "2024-08-30T05:16:23.234229Z",
     "start_time": "2024-08-30T05:16:23.178465Z"
    }
   },
   "cell_type": "code",
   "source": [
    "from sklearn.linear_model import LassoCV\n",
    "m_lassoCV = LassoCV().fit(X_train, y_train) # you must never FIT the model to test\n",
    "ypred_train_lassoCV = m_lassoCV.predict(X_train)\n",
    "ypred_test_lassoCV = m_lassoCV.predict(X_test) # it is fine to predict though\n",
    "\n",
    "lassoCV_row = {'name': 'lasso cv',\n",
    "               'train mse': mean_squared_error(y_train, ypred_train_lassoCV), \n",
    "               'test mse': mean_squared_error(y_test, ypred_test_lassoCV), \n",
    "               'train mae': mean_absolute_error(y_train, ypred_train_lassoCV), \n",
    "               'test mae': mean_absolute_error(y_test, ypred_test_lassoCV)}\n",
    "loss_df.loc[len(loss_df)] = lassoCV_row\n",
    "print(loss_df)"
   ],
   "id": "f1374d1cd3193ffc",
   "outputs": [
    {
     "name": "stdout",
     "output_type": "stream",
     "text": [
      "                name  train mse  test mse  train mae  test mae\n",
      "0  linear regression   0.151018  0.176519   0.312670  0.334087\n",
      "1   lasso regression   4.907329  4.128131   1.795599  4.128131\n",
      "2   ridge regression   0.189097  0.193945   0.353909  0.351923\n",
      "3           lasso cv   0.203116  0.208579   0.365991  0.362380\n"
     ]
    }
   ],
   "execution_count": 43
  },
  {
   "metadata": {},
   "cell_type": "markdown",
   "source": "# Conclusion",
   "id": "9903a4783dfe777b"
  },
  {
   "metadata": {},
   "cell_type": "markdown",
   "source": [
    "different models solve the regression problem in different ways. furthermore, the nature of the problem will determine the most appropriate model to be used.\n",
    "\n",
    "i could sit here and fit decision trees, SVMs or random forests to the `X_train, y_train` dataset, but that wouldn't be fun and the methods would lose their magic.\n",
    "instead, i am choosing to solve many problems; and each time select the few models which are optimal."
   ],
   "id": "c4800a7767d22d07"
  }
 ],
 "metadata": {
  "kernelspec": {
   "display_name": "Python 3",
   "language": "python",
   "name": "python3"
  },
  "language_info": {
   "codemirror_mode": {
    "name": "ipython",
    "version": 2
   },
   "file_extension": ".py",
   "mimetype": "text/x-python",
   "name": "python",
   "nbconvert_exporter": "python",
   "pygments_lexer": "ipython2",
   "version": "2.7.6"
  }
 },
 "nbformat": 4,
 "nbformat_minor": 5
}
